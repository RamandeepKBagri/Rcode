{
  "nbformat": 4,
  "nbformat_minor": 0,
  "metadata": {
    "colab": {
      "name": "Untitled2.ipynb",
      "version": "0.3.2",
      "provenance": [],
      "include_colab_link": true
    },
    "kernelspec": {
      "name": "python3",
      "display_name": "Python 3"
    }
  },
  "cells": [
    {
      "cell_type": "markdown",
      "metadata": {
        "id": "view-in-github",
        "colab_type": "text"
      },
      "source": [
        "<a href=\"https://colab.research.google.com/github/RamandeepKBagri/Rcode/blob/master/linearmodel1.ipynb\" target=\"_parent\"><img src=\"https://colab.research.google.com/assets/colab-badge.svg\" alt=\"Open In Colab\"/></a>"
      ]
    },
    {
      "cell_type": "code",
      "metadata": {
        "id": "JoqdjpDILZf1",
        "colab_type": "code",
        "colab": {
          "base_uri": "https://localhost:8080/",
          "height": 221
        },
        "outputId": "82141e6a-0801-4a0a-c345-3173993baf2a"
      },
      "source": [
        "import tensorflow as tf\n",
        "import numpy as np \n",
        "\n",
        "W = tf.Variable([0.5], dtype=tf.float32)\n",
        "b = tf.Variable([3.6], dtype=tf.float32)\n",
        "x = tf.placeholder(tf.float32)\n",
        "\n",
        "# the linear model:\n",
        "lm = W * x + b\n",
        "\n",
        "y = tf.placeholder(tf.float32)\n",
        "sq_deltas = tf.square(lm - y)\n",
        "loss = tf.reduce_sum(sq_deltas)\n",
        "lr = 0.001\n",
        "\n",
        "# specify the following:\n",
        "# 1) loss function (optimizer)\n",
        "# 2) learning rate\n",
        "# 3) minimize loss function\n",
        "optimizer = tf.train.GradientDescentOptimizer(lr)\n",
        "train = optimizer.minimize(loss)\n",
        "\n",
        "# experiment with these values:\n",
        "factor = 0.25 \n",
        "x_train = np.linspace(-1, 1, 6) # 6 spaced numbers\n",
        "y_train = 3*x_train+ np.random.randn(*x_train.shape)*factor\n",
        "\n",
        "init = tf.global_variables_initializer()\n",
        "\n",
        "# experiment with these values:\n",
        "iterations = 1000 # 100, 500, 1000  \n",
        "threshold  = 100  # 10,  50,  100 \n",
        "\n",
        "with tf.Session() as sess:\n",
        "  sess.run(init) \n",
        "\n",
        "  for i in range(iterations):\n",
        "    if (i+1) % threshold == 0:\n",
        "      print(sess.run([W, b]))\n",
        "    sess.run(train, {x:x_train, y:y_train})\n",
        "\n",
        "  print('W:',sess.run([W]))\n",
        "  print('b:',sess.run([b]))\n"
      ],
      "execution_count": 1,
      "outputs": [
        {
          "output_type": "stream",
          "text": [
            "[array([1.5740825], dtype=float32), array([1.1539171], dtype=float32)]\n",
            "[array([2.194732], dtype=float32), array([0.40975958], dtype=float32)]\n",
            "[array([2.548695], dtype=float32), array([0.18724467], dtype=float32)]\n",
            "[array([2.7505636], dtype=float32), array([0.12070914], dtype=float32)]\n",
            "[array([2.8656917], dtype=float32), array([0.10081395], dtype=float32)]\n",
            "[array([2.9313502], dtype=float32), array([0.09486496], dtype=float32)]\n",
            "[array([2.968797], dtype=float32), array([0.09308611], dtype=float32)]\n",
            "[array([2.9901526], dtype=float32), array([0.09255423], dtype=float32)]\n",
            "[array([3.0023317], dtype=float32), array([0.09239519], dtype=float32)]\n",
            "[array([3.009278], dtype=float32), array([0.09234762], dtype=float32)]\n",
            "W: [array([3.0093298], dtype=float32)]\n",
            "b: [array([0.09234738], dtype=float32)]\n"
          ],
          "name": "stdout"
        }
      ]
    }
  ]
}