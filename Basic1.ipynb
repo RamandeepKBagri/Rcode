{
  "nbformat": 4,
  "nbformat_minor": 0,
  "metadata": {
    "colab": {
      "name": "Basic1.ipynb",
      "version": "0.3.2",
      "provenance": [],
      "include_colab_link": true
    },
    "kernelspec": {
      "name": "python3",
      "display_name": "Python 3"
    }
  },
  "cells": [
    {
      "cell_type": "markdown",
      "metadata": {
        "id": "view-in-github",
        "colab_type": "text"
      },
      "source": [
        "<a href=\"https://colab.research.google.com/github/RamandeepKBagri/Rcode/blob/master/Basic1.ipynb\" target=\"_parent\"><img src=\"https://colab.research.google.com/assets/colab-badge.svg\" alt=\"Open In Colab\"/></a>"
      ]
    },
    {
      "cell_type": "code",
      "metadata": {
        "id": "3JFb4gZq0Rj1",
        "colab_type": "code",
        "outputId": "12f13165-9a12-4f62-be8c-b612f434f5c9",
        "colab": {
          "base_uri": "https://localhost:8080/",
          "height": 85
        }
      },
      "source": [
        "#basic1\n",
        "import tensorflow as tf # basic1.py\n",
        "\n",
        "a = tf.add(4, 2)\n",
        "b = tf.subtract(8, 6)\n",
        "c = tf.multiply(a, 3)\n",
        "d = tf.div(a, 6)\n",
        "\n",
        "with tf.Session() as sess:\n",
        "  print(sess.run(a)) # 6\n",
        "  print(sess.run(b)) # 2\n",
        "  print(sess.run(c)) # 18\n",
        "  print(sess.run(d)) # 1\n"
      ],
      "execution_count": 0,
      "outputs": [
        {
          "output_type": "stream",
          "text": [
            "6\n",
            "2\n",
            "18\n",
            "1\n"
          ],
          "name": "stdout"
        }
      ]
    },
    {
      "cell_type": "code",
      "metadata": {
        "id": "vW4-0BNcmPPM",
        "colab_type": "code",
        "colab": {
          "base_uri": "https://localhost:8080/",
          "height": 102
        },
        "outputId": "fc2eb403-d654-4332-fcec-dc9013453ad1"
      },
      "source": [
        "import numpy as np\n",
        "\n",
        "list = [1,2,3]\n",
        "\n",
        "list.append(4)\n",
        "list = list + [5] \n",
        "\n",
        "for e in list:\n",
        "  print (e)\n"
      ],
      "execution_count": 2,
      "outputs": [
        {
          "output_type": "stream",
          "text": [
            "1\n",
            "2\n",
            "3\n",
            "4\n",
            "5\n"
          ],
          "name": "stdout"
        }
      ]
    },
    {
      "cell_type": "code",
      "metadata": {
        "id": "VFPlEGw69Yds",
        "colab_type": "code",
        "colab": {
          "base_uri": "https://localhost:8080/",
          "height": 85
        },
        "outputId": "047770bf-7c87-4afa-ee7b-291994f1be4b"
      },
      "source": [
        "import numpy as np # append2b.py\n",
        "\n",
        "arr1 = np.array([1,2,3])\n",
        "arr1 = np.append(arr1,4)\n",
        "\n",
        "for e in arr1:\n",
        "        print (e)"
      ],
      "execution_count": 3,
      "outputs": [
        {
          "output_type": "stream",
          "text": [
            "1\n",
            "2\n",
            "3\n",
            "4\n"
          ],
          "name": "stdout"
        }
      ]
    },
    {
      "cell_type": "code",
      "metadata": {
        "id": "ekXo2zTK9qHR",
        "colab_type": "code",
        "colab": {
          "base_uri": "https://localhost:8080/",
          "height": 102
        },
        "outputId": "7ab4d164-9b8d-40e4-dcd0-e00f702e1271"
      },
      "source": [
        "import numpy as np # dotproduct1.py \n",
        "\n",
        "a = np.array([1,2])\n",
        "b = np.array([2,3])\n",
        "\n",
        "dot2 = 0 \n",
        "for e,f in zip(a,b):\n",
        "  dot2 += e*f\n",
        " \n",
        "print('a:   ',a) \n",
        "print('b:   ',b) \n",
        "print('a*b: ',a*b) \n",
        "print('dot1:',a.dot(b))\n",
        "print('dot2:',dot2)"
      ],
      "execution_count": 4,
      "outputs": [
        {
          "output_type": "stream",
          "text": [
            "a:    [1 2]\n",
            "b:    [2 3]\n",
            "a*b:  [2 6]\n",
            "dot1: 8\n",
            "dot2: 8\n"
          ],
          "name": "stdout"
        }
      ]
    },
    {
      "cell_type": "code",
      "metadata": {
        "id": "fcVE5lqkGW4k",
        "colab_type": "code",
        "outputId": "40005370-eab4-45de-cc6a-1eef1409704b",
        "colab": {
          "base_uri": "https://localhost:8080/",
          "height": 51
        }
      },
      "source": [
        "import tensorflow as tf\n",
        "\n",
        "a1 = tf.placeholder(tf.float32)\n",
        "a2 = tf.placeholder(tf.float32)\n",
        "a3 = a1 + a2\n",
        "\n",
        "sess = tf.Session()\n",
        "print(sess.run(a3, {a1:7, a2:13}))\n",
        "print(sess.run(a3, {a1:[7,10], a2:[13,20]}))\n",
        "\n"
      ],
      "execution_count": 0,
      "outputs": [
        {
          "output_type": "stream",
          "text": [
            "20.0\n",
            "[20. 30.]\n"
          ],
          "name": "stdout"
        }
      ]
    },
    {
      "cell_type": "code",
      "metadata": {
        "id": "GRShMKuR-Msq",
        "colab_type": "code",
        "colab": {
          "base_uri": "https://localhost:8080/",
          "height": 102
        },
        "outputId": "232e1b12-9d6e-4f66-cc08-9cf5929841a8"
      },
      "source": [
        "import numpy as np # otherops.py \n",
        "\n",
        "a = np.array([1,2])\n",
        "b = np.array([3,4])\n",
        "\n",
        "print('a:           ',a) \n",
        "print('b:           ',b) \n",
        "print('a*b:         ',a*b) \n",
        "print('np.sum(a*b): ',np.sum(a*b)) \n",
        "print('(a*b.sum()): ',(a*b).sum()) \n"
      ],
      "execution_count": 6,
      "outputs": [
        {
          "output_type": "stream",
          "text": [
            "a:            [1 2]\n",
            "b:            [3 4]\n",
            "a*b:          [3 8]\n",
            "np.sum(a*b):  11\n",
            "(a*b.sum()):  11\n"
          ],
          "name": "stdout"
        }
      ]
    },
    {
      "cell_type": "code",
      "metadata": {
        "id": "byKLXmVSI3V2",
        "colab_type": "code",
        "colab": {
          "base_uri": "https://localhost:8080/",
          "height": 972
        },
        "outputId": "d12f9bde-af05-4a3c-93ff-179ee21707b4"
      },
      "source": [
        "# Import 'datasets' from 'sklearn'\n",
        "from sklearn import datasets\n",
        "\n",
        "# Load in the 'digits' data\n",
        "digits = datasets.load_digits()\n",
        "\n",
        "# Print the 'digits' data \n",
        "print(digits)\n"
      ],
      "execution_count": 7,
      "outputs": [
        {
          "output_type": "stream",
          "text": [
            "{'data': array([[ 0.,  0.,  5., ...,  0.,  0.,  0.],\n",
            "       [ 0.,  0.,  0., ..., 10.,  0.,  0.],\n",
            "       [ 0.,  0.,  0., ..., 16.,  9.,  0.],\n",
            "       ...,\n",
            "       [ 0.,  0.,  1., ...,  6.,  0.,  0.],\n",
            "       [ 0.,  0.,  2., ..., 12.,  0.,  0.],\n",
            "       [ 0.,  0., 10., ..., 12.,  1.,  0.]]), 'target': array([0, 1, 2, ..., 8, 9, 8]), 'target_names': array([0, 1, 2, 3, 4, 5, 6, 7, 8, 9]), 'images': array([[[ 0.,  0.,  5., ...,  1.,  0.,  0.],\n",
            "        [ 0.,  0., 13., ..., 15.,  5.,  0.],\n",
            "        [ 0.,  3., 15., ..., 11.,  8.,  0.],\n",
            "        ...,\n",
            "        [ 0.,  4., 11., ..., 12.,  7.,  0.],\n",
            "        [ 0.,  2., 14., ..., 12.,  0.,  0.],\n",
            "        [ 0.,  0.,  6., ...,  0.,  0.,  0.]],\n",
            "\n",
            "       [[ 0.,  0.,  0., ...,  5.,  0.,  0.],\n",
            "        [ 0.,  0.,  0., ...,  9.,  0.,  0.],\n",
            "        [ 0.,  0.,  3., ...,  6.,  0.,  0.],\n",
            "        ...,\n",
            "        [ 0.,  0.,  1., ...,  6.,  0.,  0.],\n",
            "        [ 0.,  0.,  1., ...,  6.,  0.,  0.],\n",
            "        [ 0.,  0.,  0., ..., 10.,  0.,  0.]],\n",
            "\n",
            "       [[ 0.,  0.,  0., ..., 12.,  0.,  0.],\n",
            "        [ 0.,  0.,  3., ..., 14.,  0.,  0.],\n",
            "        [ 0.,  0.,  8., ..., 16.,  0.,  0.],\n",
            "        ...,\n",
            "        [ 0.,  9., 16., ...,  0.,  0.,  0.],\n",
            "        [ 0.,  3., 13., ..., 11.,  5.,  0.],\n",
            "        [ 0.,  0.,  0., ..., 16.,  9.,  0.]],\n",
            "\n",
            "       ...,\n",
            "\n",
            "       [[ 0.,  0.,  1., ...,  1.,  0.,  0.],\n",
            "        [ 0.,  0., 13., ...,  2.,  1.,  0.],\n",
            "        [ 0.,  0., 16., ..., 16.,  5.,  0.],\n",
            "        ...,\n",
            "        [ 0.,  0., 16., ..., 15.,  0.,  0.],\n",
            "        [ 0.,  0., 15., ..., 16.,  0.,  0.],\n",
            "        [ 0.,  0.,  2., ...,  6.,  0.,  0.]],\n",
            "\n",
            "       [[ 0.,  0.,  2., ...,  0.,  0.,  0.],\n",
            "        [ 0.,  0., 14., ..., 15.,  1.,  0.],\n",
            "        [ 0.,  4., 16., ..., 16.,  7.,  0.],\n",
            "        ...,\n",
            "        [ 0.,  0.,  0., ..., 16.,  2.,  0.],\n",
            "        [ 0.,  0.,  4., ..., 16.,  2.,  0.],\n",
            "        [ 0.,  0.,  5., ..., 12.,  0.,  0.]],\n",
            "\n",
            "       [[ 0.,  0., 10., ...,  1.,  0.,  0.],\n",
            "        [ 0.,  2., 16., ...,  1.,  0.,  0.],\n",
            "        [ 0.,  0., 15., ..., 15.,  0.,  0.],\n",
            "        ...,\n",
            "        [ 0.,  4., 16., ..., 16.,  6.,  0.],\n",
            "        [ 0.,  8., 16., ..., 16.,  8.,  0.],\n",
            "        [ 0.,  1.,  8., ..., 12.,  1.,  0.]]]), 'DESCR': \".. _digits_dataset:\\n\\nOptical recognition of handwritten digits dataset\\n--------------------------------------------------\\n\\n**Data Set Characteristics:**\\n\\n    :Number of Instances: 5620\\n    :Number of Attributes: 64\\n    :Attribute Information: 8x8 image of integer pixels in the range 0..16.\\n    :Missing Attribute Values: None\\n    :Creator: E. Alpaydin (alpaydin '@' boun.edu.tr)\\n    :Date: July; 1998\\n\\nThis is a copy of the test set of the UCI ML hand-written digits datasets\\nhttps://archive.ics.uci.edu/ml/datasets/Optical+Recognition+of+Handwritten+Digits\\n\\nThe data set contains images of hand-written digits: 10 classes where\\neach class refers to a digit.\\n\\nPreprocessing programs made available by NIST were used to extract\\nnormalized bitmaps of handwritten digits from a preprinted form. From a\\ntotal of 43 people, 30 contributed to the training set and different 13\\nto the test set. 32x32 bitmaps are divided into nonoverlapping blocks of\\n4x4 and the number of on pixels are counted in each block. This generates\\nan input matrix of 8x8 where each element is an integer in the range\\n0..16. This reduces dimensionality and gives invariance to small\\ndistortions.\\n\\nFor info on NIST preprocessing routines, see M. D. Garris, J. L. Blue, G.\\nT. Candela, D. L. Dimmick, J. Geist, P. J. Grother, S. A. Janet, and C.\\nL. Wilson, NIST Form-Based Handprint Recognition System, NISTIR 5469,\\n1994.\\n\\n.. topic:: References\\n\\n  - C. Kaynak (1995) Methods of Combining Multiple Classifiers and Their\\n    Applications to Handwritten Digit Recognition, MSc Thesis, Institute of\\n    Graduate Studies in Science and Engineering, Bogazici University.\\n  - E. Alpaydin, C. Kaynak (1998) Cascading Classifiers, Kybernetika.\\n  - Ken Tang and Ponnuthurai N. Suganthan and Xi Yao and A. Kai Qin.\\n    Linear dimensionalityreduction using relevance weighted LDA. School of\\n    Electrical and Electronic Engineering Nanyang Technological University.\\n    2005.\\n  - Claudio Gentile. A New Approximate Maximal Margin Classification\\n    Algorithm. NIPS. 2000.\"}\n"
          ],
          "name": "stdout"
        }
      ]
    },
    {
      "cell_type": "code",
      "metadata": {
        "id": "CPSU7_Dh-m8O",
        "colab_type": "code",
        "colab": {
          "base_uri": "https://localhost:8080/",
          "height": 269
        },
        "outputId": "6a74eb46-60d7-48e9-fec8-b6ffbcbd6575"
      },
      "source": [
        "import numpy as np # lin-reg-plot.py \n",
        "import matplotlib.pyplot as plt \n",
        "\n",
        "trX = np.linspace(-1, 1, 101) \n",
        "import numpy as np \n",
        "\n",
        "# linear space of 101 and [-1,1]\n",
        "\n",
        "# create the y function based on the x axis\n",
        "trY = 2*trX + np.random.randn(*trX.shape)*0.4+0.2\n",
        "\n",
        "# create a new figure\n",
        "plt.figure() \n",
        "\n",
        "# plot a scatter draw of the random datapoints\n",
        "plt.scatter(trX,trY) \n",
        "\n",
        "# draw one line with the line function\n",
        "plt.plot (trX, .2 + 2 * trX)\n",
        "plt.show()\n"
      ],
      "execution_count": 8,
      "outputs": [
        {
          "output_type": "display_data",
          "data": {
            "image/png": "[encoded data removed]",
            "text/plain": [
              "<Figure size 432x288 with 1 Axes>"
            ]
          },
          "metadata": {
            "tags": []
          }
        }
      ]
    },
    {
      "cell_type": "code",
      "metadata": {
        "id": "p92I02M_0X3J",
        "colab_type": "code",
        "outputId": "d804397a-d19a-4228-ce24-703d5ecfae7a",
        "colab": {
          "base_uri": "https://localhost:8080/",
          "height": 102
        }
      },
      "source": [
        "#exp values\n",
        "import tensorflow as tf\n",
        "\n",
        "a = tf.exp(1.0)\n",
        "b = tf.exp(-2.0)\n",
        "\n",
        "s1 = tf.sigmoid(2.0)\n",
        "s2 = 1.0/(1.0 + b)\n",
        "t2 = tf.tanh(2.0)\n",
        "\n",
        "with tf.Session() as sess:\n",
        "  print('a: ', sess.run(a)) \n",
        "  print('b: ', sess.run(b)) \n",
        "  print('s1:', sess.run(s1)) \n",
        "  print('s2:', sess.run(s2)) \n",
        "  print('t2:', sess.run(t2)) \n"
      ],
      "execution_count": 0,
      "outputs": [
        {
          "output_type": "stream",
          "text": [
            "a:  2.7182817\n",
            "b:  0.13533528\n",
            "s1: 0.880797\n",
            "s2: 0.880797\n",
            "t2: 0.9640276\n"
          ],
          "name": "stdout"
        }
      ]
    },
    {
      "cell_type": "code",
      "metadata": {
        "id": "gCDF3tAq1YR3",
        "colab_type": "code",
        "outputId": "2cc25b90-e5ce-467b-a749-802e22410264",
        "colab": {
          "base_uri": "https://localhost:8080/",
          "height": 68
        }
      },
      "source": [
        "#tensor elem1\n",
        "import tensorflow as tf\n",
        "\n",
        "sess = tf.Session()\n",
        "arr1 = tf.constant([1,2])\n",
        "print ('arr1:',sess.run(arr1))\n",
        "print ('[0]:',sess.run(arr1)[0])\n",
        "print ('[1]:',sess.run(arr1)[1])\n"
      ],
      "execution_count": 0,
      "outputs": [
        {
          "output_type": "stream",
          "text": [
            "arr1: [1 2]\n",
            "[0]: 1\n",
            "[1]: 2\n"
          ],
          "name": "stdout"
        }
      ]
    },
    {
      "cell_type": "code",
      "metadata": {
        "id": "kQt34V_Y_V7m",
        "colab_type": "code",
        "colab": {
          "base_uri": "https://localhost:8080/",
          "height": 136
        },
        "outputId": "4724db95-764d-4695-a240-a7f35886072c"
      },
      "source": [
        "import pandas as pd\n",
        "\n",
        "can_weather = pd.DataFrame({\n",
        "    \"city\": [\"Vancouver\",\"Toronto\",\"Montreal\"],\n",
        "    \"temperature\": [72,65,50],\n",
        "    \"humidity\": [40, 20, 25]\n",
        "})\n",
        "\n",
        "us_weather = pd.DataFrame({\n",
        "    \"city\": [\"SF\",\"Chicago\",\"LA\"],\n",
        "    \"temperature\": [60,40,85],\n",
        "    \"humidity\": [30, 15, 55]\n",
        "})\n",
        "\n",
        "df = pd.concat([can_weather, us_weather])\n",
        "\n",
        "print(df)"
      ],
      "execution_count": 9,
      "outputs": [
        {
          "output_type": "stream",
          "text": [
            "        city  temperature  humidity\n",
            "0  Vancouver           72        40\n",
            "1    Toronto           65        20\n",
            "2   Montreal           50        25\n",
            "0         SF           60        30\n",
            "1    Chicago           40        15\n",
            "2         LA           85        55\n"
          ],
          "name": "stdout"
        }
      ]
    },
    {
      "cell_type": "code",
      "metadata": {
        "id": "NMaBtTQP_qM5",
        "colab_type": "code",
        "colab": {
          "base_uri": "https://localhost:8080/",
          "height": 283
        },
        "outputId": "781d048b-4691-4d28-f184-63be8f58f672"
      },
      "source": [
        "# https://github.com/mwaskom/seaborn-data \n",
        "import seaborn as sns\n",
        "import matplotlib.pyplot as plt\n",
        "\n",
        "# load iris data\n",
        "iris = sns.load_dataset(\"iris\")\n",
        "\n",
        "# construct iris plot\n",
        "sns.swarmplot(x=\"species\", y=\"petal_length\", data=iris)\n",
        "\n",
        "# show plot\n",
        "plt.show()\n"
      ],
      "execution_count": 10,
      "outputs": [
        {
          "output_type": "display_data",
          "data": {
            "image/png": "[encoded data removed]",
            "text/plain": [
              "<Figure size 432x288 with 1 Axes>"
            ]
          },
          "metadata": {
            "tags": []
          }
        }
      ]
    },
    {
      "cell_type": "code",
      "metadata": {
        "id": "BcUcfkne__ki",
        "colab_type": "code",
        "colab": {
          "base_uri": "https://localhost:8080/",
          "height": 269
        },
        "outputId": "40911fa3-0fa5-4e6b-dcf9-72ea9f2f6f51"
      },
      "source": [
        "import numpy as np\n",
        "import matplotlib.pyplot as plt\n",
        "\n",
        "greyhounds = 500\n",
        "labradors  = 500\n",
        "\n",
        "grey_height = 28 + 4 * np.random.randn(greyhounds)\n",
        "labs_height = 24 + 4 * np.random.randn(labradors)\n",
        "\n",
        "plt.hist([grey_height, labs_height], stacked=True, color=['r','b'])\n",
        "plt.show()\n",
        "\n"
      ],
      "execution_count": 11,
      "outputs": [
        {
          "output_type": "display_data",
          "data": {
            "image/png": "[encoded data removed]",
            "text/plain": [
              "<Figure size 432x288 with 1 Axes>"
            ]
          },
          "metadata": {
            "tags": []
          }
        }
      ]
    },
    {
      "cell_type": "code",
      "metadata": {
        "id": "wMcc2JAOAW5s",
        "colab_type": "code",
        "colab": {
          "base_uri": "https://localhost:8080/",
          "height": 283
        },
        "outputId": "a5a6e561-2f9f-4584-c257-c0757d1825b6"
      },
      "source": [
        "import numpy as np\n",
        "import matplotlib.pyplot as plt\n",
        " \n",
        "x = [2,3,4,5,7,9,13,15,17]\n",
        "\n",
        "#plt.plot(x)\n",
        "#plt.plot(x, 'ro')\n",
        "\n",
        "plt.plot(x, 'ro-')\n",
        "plt.ylabel('Height')\n",
        "plt.xlabel('Weight')\n",
        "plt.show()"
      ],
      "execution_count": 12,
      "outputs": [
        {
          "output_type": "display_data",
          "data": {
            "image/png": "[encoded data removed]",
            "text/plain": [
              "<Figure size 432x288 with 1 Axes>"
            ]
          },
          "metadata": {
            "tags": []
          }
        }
      ]
    },
    {
      "cell_type": "code",
      "metadata": {
        "id": "V0gvte1bAlvn",
        "colab_type": "code",
        "colab": {
          "base_uri": "https://localhost:8080/",
          "height": 272
        },
        "outputId": "16803bd3-634d-4a88-c47e-f06b844b20a8"
      },
      "source": [
        "import pandas as pd\n",
        "\n",
        "stats = {'Day':[1,2,3,4,5,6],\n",
        "         'Visitors':[43,34,65,56,29,76],\n",
        "         'Bounce Rate':[65,67,78,65,45,52]}\n",
        "\n",
        "df = pd.DataFrame(stats)\n",
        "\n",
        "print(df.head())\n",
        "\n",
        "print(df.tail())\n",
        "\n",
        "print(df.tail(2))\n"
      ],
      "execution_count": 13,
      "outputs": [
        {
          "output_type": "stream",
          "text": [
            "   Day  Visitors  Bounce Rate\n",
            "0    1        43           65\n",
            "1    2        34           67\n",
            "2    3        65           78\n",
            "3    4        56           65\n",
            "4    5        29           45\n",
            "   Day  Visitors  Bounce Rate\n",
            "1    2        34           67\n",
            "2    3        65           78\n",
            "3    4        56           65\n",
            "4    5        29           45\n",
            "5    6        76           52\n",
            "   Day  Visitors  Bounce Rate\n",
            "4    5        29           45\n",
            "5    6        76           52\n"
          ],
          "name": "stdout"
        }
      ]
    },
    {
      "cell_type": "code",
      "metadata": {
        "id": "O3BzsAkuA0rD",
        "colab_type": "code",
        "colab": {}
      },
      "source": [
        ""
      ],
      "execution_count": 0,
      "outputs": []
    },
    {
      "cell_type": "code",
      "metadata": {
        "id": "fDZapqpA3t2R",
        "colab_type": "code",
        "outputId": "8a8155a1-d81e-4400-f462-800a6c9dbfc5",
        "colab": {
          "base_uri": "https://localhost:8080/",
          "height": 85
        }
      },
      "source": [
        "#tensor elem2\n",
        "import tensorflow as tf\n",
        "\n",
        "sess = tf.Session()\n",
        "\n",
        "arr2 = tf.constant([[1,2],[2,3]])\n",
        "print ('arr2:   ',sess.run(arr2))\n",
        "print ('[1]:    ',sess.run(arr2)[1])\n",
        "print ('[1,1]:  ',sess.run(arr2)[1,1])"
      ],
      "execution_count": 0,
      "outputs": [
        {
          "output_type": "stream",
          "text": [
            "arr2:    [[1 2]\n",
            " [2 3]]\n",
            "[1]:     [2 3]\n",
            "[1,1]:   3\n"
          ],
          "name": "stdout"
        }
      ]
    },
    {
      "cell_type": "code",
      "metadata": {
        "id": "vI2cZLWE4pdW",
        "colab_type": "code",
        "outputId": "38b674c8-d75f-4d96-ac03-b665f68bd04c",
        "colab": {
          "base_uri": "https://localhost:8080/",
          "height": 170
        }
      },
      "source": [
        "#tensor elem3\n",
        "import tensorflow as tf\n",
        "\n",
        "sess = tf.Session()\n",
        "\n",
        "arr3 = tf.constant([[[1,2],[2,3]],[[3,4],[5,6]]])\n",
        "print ('arr3:   ',sess.run(arr3))\n",
        "print ('[1]:    ',sess.run(arr3)[1])\n",
        "print ('[1,1]:  ',sess.run(arr3)[1,1])\n",
        "print ('[1,1,0]:',sess.run(arr3)[1,1,0])\n"
      ],
      "execution_count": 0,
      "outputs": [
        {
          "output_type": "stream",
          "text": [
            "arr3:    [[[1 2]\n",
            "  [2 3]]\n",
            "\n",
            " [[3 4]\n",
            "  [5 6]]]\n",
            "[1]:     [[3 4]\n",
            " [5 6]]\n",
            "[1,1]:   [5 6]\n",
            "[1,1,0]: 5\n"
          ],
          "name": "stdout"
        }
      ]
    },
    {
      "cell_type": "code",
      "metadata": {
        "id": "AFbkwkxS5Mj9",
        "colab_type": "code",
        "outputId": "db67c8ac-b022-4f89-f6fb-e053e67d5ec4",
        "colab": {
          "base_uri": "https://localhost:8080/",
          "height": 51
        }
      },
      "source": [
        "#tf. const\n",
        "import tensorflow as tf # tf-const.py\n",
        "\n",
        "aconst = tf.constant(3.0)\n",
        "print(aconst)\n",
        "# output: Tensor(\"Const:0\", shape=(), dtype=float32)\n",
        "\n",
        "sess = tf.Session()  \n",
        "print(sess.run(aconst))\n",
        "# output: 3.0\n",
        "sess.close()\n",
        "\n",
        "# => there is a better way\n"
      ],
      "execution_count": 0,
      "outputs": [
        {
          "output_type": "stream",
          "text": [
            "Tensor(\"Const_3:0\", shape=(), dtype=float32)\n",
            "3.0\n"
          ],
          "name": "stdout"
        }
      ]
    },
    {
      "cell_type": "code",
      "metadata": {
        "id": "a05-w1Ie5ofr",
        "colab_type": "code",
        "outputId": "3920466a-18ae-40da-9658-b0263e591744",
        "colab": {
          "base_uri": "https://localhost:8080/",
          "height": 51
        }
      },
      "source": [
        "import tensorflow as tf # tf-const2.py\n",
        "\n",
        "aconst = tf.constant(3.0)\n",
        "print(aconst)\n",
        "\n",
        "# Automatically close \"sess\"\n",
        "with tf.Session() as sess:\n",
        "  print(sess.run(aconst)) "
      ],
      "execution_count": 0,
      "outputs": [
        {
          "output_type": "stream",
          "text": [
            "Tensor(\"Const_4:0\", shape=(), dtype=float32)\n",
            "3.0\n"
          ],
          "name": "stdout"
        }
      ]
    },
    {
      "cell_type": "code",
      "metadata": {
        "id": "Wr1SddTf5yPj",
        "colab_type": "code",
        "outputId": "7f835138-37c1-4705-f4cf-f790ed6c302a",
        "colab": {
          "base_uri": "https://localhost:8080/",
          "height": 85
        }
      },
      "source": [
        "import tensorflow as tf # tf-cpu.py\n",
        "\n",
        "with tf.Session() as sess:\n",
        "  m1 = tf.constant([[3., 3.]])\n",
        "  m2 = tf.constant([[2.],[2.]])\n",
        "  p1 = tf.matmul(m1, m2)\n",
        "  print('m1:',sess.run(m1))\n",
        "  print('m2:',sess.run(m2))\n",
        "  print('p1:',sess.run(p1))\n",
        "\n",
        "#('m1:', array([[3., 3.]],  dtype=float32))\n",
        "#('m2:', array([[2.], [2.]],dtype=float32))\n",
        "#('p1:', array([[12.]],     dtype=float32))"
      ],
      "execution_count": 0,
      "outputs": [
        {
          "output_type": "stream",
          "text": [
            "m1: [[3. 3.]]\n",
            "m2: [[2.]\n",
            " [2.]]\n",
            "p1: [[12.]]\n"
          ],
          "name": "stdout"
        }
      ]
    }
  ]
}